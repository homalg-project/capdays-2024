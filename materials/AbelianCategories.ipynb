{
 "cells": [
  {
   "cell_type": "markdown",
   "metadata": {},
   "source": [
    "# Algorithmic Category Theory: first steps in CAP"
   ]
  },
  {
   "cell_type": "markdown",
   "metadata": {},
   "source": [
    "## Introduction\n",
    "\n",
    "**Categorical abstraction** is a powerful **computational tool**.\n",
    "\n",
    "Category theory gains its computational power from three key observations:\n",
    "\n",
    "1. equivalences of categories can transform otherwise inaccessible mathematical objects into computationally easily graspable entities,\n",
    "\n",
    "2. category theory defines a *language* that respects the isomorphism-invariant structures and properties of mathematical objects, an idea that justifies the treatment of equivalent categories as \"being equal from a categorical point of view\",\n",
    "\n",
    "3. lots of mathematicians nowadays use category theory as a widely accepted language to express their ideas, and thus, algorithmic category theory has a great range of applications.\n",
    "\n",
    "In this worksheet, we will explore \n",
    "\n",
    "- the category of finite dimensional vector spaces $\\mathrm{vec}_k$ over a computable field $k$,\n",
    "- the category of finitely presented (left) modules $\\mathrm{mod}_R$ over a computable ring $R$.\n",
    "\n",
    "We will do this by giving **computational models** for these categories,\n",
    "i.e., we will construct categories $\\mathrm{mat}_k$ and $\\mathrm{fpres}_R$\n",
    "for which we have\n",
    "\n",
    "$$\\mathrm{vec}_k \\simeq \\mathrm{mat}_k$$\n",
    "\n",
    "and\n",
    "\n",
    "$$\\mathrm{mod}_R \\simeq \\mathrm{fpres}_R\\text{,}$$\n",
    "\n",
    "but with the advantage that these categories will be much easier to work with from a computational point of view.\n",
    "\n",
    "CAP is implemented in GAP but can be also be accessed in Julia by loading the following package:"
   ]
  },
  {
   "cell_type": "code",
   "execution_count": 1,
   "metadata": {},
   "outputs": [
    {
     "name": "stdout",
     "output_type": "stream",
     "text": [
      " ┌───────┐   GAP 4.13.1 of 2024-06-11\n",
      " │  GAP  │   https://www.gap-system.org\n",
      " └───────┘   Architecture: x86_64-pc-linux-gnu-julia1.10-64-kv9\n",
      " Configuration:  gmp 6.3.0, Julia GC, Julia 1.10.4, readline\n",
      " Loading the library and packages ...\n",
      " Packages:   GAPDoc 1.6.6.dev, IO 4.8.2, JuliaInterface 0.11.1, PrimGrp 3.4.4, \n",
      "             SmallGrp 1.5.3, TransGrp 3.6.5\n",
      " Try '??help' for help. See also '?copyright', '?cite' and '?authors'\n",
      "CapAndHomalg v\u001b[32m1.6.0\u001b[39m\n",
      "Imported OSCAR's components GAP and Singular_jll\n",
      "Type: ?CapAndHomalg for more information\n"
     ]
    }
   ],
   "source": [
    "using CapAndHomalg"
   ]
  },
  {
   "cell_type": "markdown",
   "metadata": {},
   "source": [
    "## Computing in abelian categories"
   ]
  },
  {
   "cell_type": "markdown",
   "metadata": {},
   "source": [
    "The categories $\\mathrm{vec}_k$ and $\\mathrm{mod}_R$ are both\n",
    "examples of **abelian categories**.\n",
    "\n",
    "*Remark for those who already know what an abelian category is:\n",
    "the fact that $\\mathrm{mod}_R$ (which is the\n",
    "category of *finitely presented* modules and not to be confused with\n",
    "the category of *all* $R$-modules) is an abelian category relies\n",
    "on the ring $R$ being coherent, a property that will be implied\n",
    "by our notion of a computable ring.*\n",
    "\n",
    "The computational aspects of the *language of abelian categories*\n",
    "will be our guide in this section."
   ]
  },
  {
   "cell_type": "markdown",
   "metadata": {},
   "source": [
    "### Finite dimensional vector spaces"
   ]
  },
  {
   "cell_type": "markdown",
   "metadata": {},
   "source": [
    "Our computational model $\\mathrm{mat}_k$ for finite dimensional vector spaces,\n",
    "which we call the **matrix category** of $k$, is part of the following $\\textsf{GAP}$-package:"
   ]
  },
  {
   "cell_type": "code",
   "execution_count": 2,
   "metadata": {},
   "outputs": [],
   "source": [
    "LoadPackage( \"LinearAlgebraForCAP\" );"
   ]
  },
  {
   "cell_type": "markdown",
   "metadata": {},
   "source": [
    "First, we need to create a field. For example, we can create the rationals $\\mathbb{Q}$:"
   ]
  },
  {
   "cell_type": "code",
   "execution_count": 3,
   "metadata": {},
   "outputs": [
    {
     "data": {
      "text/plain": [
       "GAP: Q"
      ]
     },
     "execution_count": 3,
     "metadata": {},
     "output_type": "execute_result"
    }
   ],
   "source": [
    "QQ = HomalgFieldOfRationals()"
   ]
  },
  {
   "cell_type": "markdown",
   "metadata": {},
   "source": [
    "We could also create a finite field $\\mathbb{F}_3$ with $3$ elements:"
   ]
  },
  {
   "cell_type": "code",
   "execution_count": 4,
   "metadata": {},
   "outputs": [
    {
     "data": {
      "text/plain": [
       "GAP: GF(3)"
      ]
     },
     "execution_count": 4,
     "metadata": {},
     "output_type": "execute_result"
    }
   ],
   "source": [
    "F3 = HomalgRingOfIntegers( 3 )"
   ]
  },
  {
   "cell_type": "markdown",
   "metadata": {},
   "source": [
    "The following constructor takes such a field as an input and returns\n",
    "our computational model of the category of finite dimensional vector spaces as an output:"
   ]
  },
  {
   "cell_type": "code",
   "execution_count": 5,
   "metadata": {},
   "outputs": [
    {
     "data": {
      "text/plain": [
       "GAP: Category of matrices over Q"
      ]
     },
     "execution_count": 5,
     "metadata": {},
     "output_type": "execute_result"
    }
   ],
   "source": [
    "matQQ = MatrixCategory( QQ )"
   ]
  },
  {
   "cell_type": "markdown",
   "metadata": {},
   "source": [
    "The $\\mathsf{GAP}$-object $\\mathrm{mat}_{\\mathbb{Q}}$ comes with some preset knowledge:"
   ]
  },
  {
   "cell_type": "code",
   "execution_count": 6,
   "metadata": {},
   "outputs": [
    {
     "data": {
      "text/plain": [
       "true"
      ]
     },
     "execution_count": 6,
     "metadata": {},
     "output_type": "execute_result"
    }
   ],
   "source": [
    "IsAbelianCategory( matQQ )"
   ]
  },
  {
   "cell_type": "markdown",
   "metadata": {},
   "source": [
    "We claimed in the introduction that we have an equivalence\n",
    "$$\\mathrm{vec}_{\\mathbb{Q}} \\simeq \\mathrm{mat}_{\\mathbb{Q}}\\text{,}$$\n",
    "so, let us learn more about $\\mathrm{mat}_{\\mathbb{Q}}$.\n",
    "We start with the **objects**. To construct an object in \n",
    "$\\mathrm{mat}_{\\mathbb{Q}}$, we use the following constructor:"
   ]
  },
  {
   "cell_type": "code",
   "execution_count": 7,
   "metadata": {},
   "outputs": [
    {
     "data": {
      "text/plain": [
       "GAP: <A vector space object over Q of dimension 1>"
      ]
     },
     "execution_count": 7,
     "metadata": {},
     "output_type": "execute_result"
    }
   ],
   "source": [
    "V1 = MatrixCategoryObject( matQQ, 1 )"
   ]
  },
  {
   "cell_type": "markdown",
   "metadata": {},
   "source": [
    "Alternatively, we can use the generic name `ObjectConstructor` and get the same result:"
   ]
  },
  {
   "cell_type": "code",
   "execution_count": 8,
   "metadata": {},
   "outputs": [
    {
     "data": {
      "text/plain": [
       "GAP: <A vector space object over Q of dimension 1>"
      ]
     },
     "execution_count": 8,
     "metadata": {},
     "output_type": "execute_result"
    }
   ],
   "source": [
    "V1 = ObjectConstructor( matQQ, 1 )"
   ]
  },
  {
   "cell_type": "markdown",
   "metadata": {},
   "source": [
    "Since we expect this object to represent a vector space, we ask for its dimension:"
   ]
  },
  {
   "cell_type": "code",
   "execution_count": 9,
   "metadata": {},
   "outputs": [
    {
     "data": {
      "text/plain": [
       "1"
      ]
     },
     "execution_count": 9,
     "metadata": {},
     "output_type": "execute_result"
    }
   ],
   "source": [
    "Dimension( V1 )"
   ]
  },
  {
   "cell_type": "markdown",
   "metadata": {},
   "source": [
    "Alternatively, we can obtain the same information using the generic name `ObjectDatum`:"
   ]
  },
  {
   "cell_type": "code",
   "execution_count": 10,
   "metadata": {},
   "outputs": [
    {
     "data": {
      "text/plain": [
       "1"
      ]
     },
     "execution_count": 10,
     "metadata": {},
     "output_type": "execute_result"
    }
   ],
   "source": [
    "ObjectDatum( V1 )"
   ]
  },
  {
   "cell_type": "markdown",
   "metadata": {},
   "source": [
    "Thus, $V_1$ shall represent a $\\mathbb{Q}$-vector space of dimension $1$.\n",
    "Likewise, we can use the command `MatrixCategoryObject` to create objects \n",
    "representing $\\mathbb{Q}$-vector spaces of any finite dimension.\n",
    "What happens if we create another object representing a $\\mathbb{Q}$-vector space of the same dimension?"
   ]
  },
  {
   "cell_type": "code",
   "execution_count": 11,
   "metadata": {},
   "outputs": [
    {
     "data": {
      "text/plain": [
       "true"
      ]
     },
     "execution_count": 11,
     "metadata": {},
     "output_type": "execute_result"
    }
   ],
   "source": [
    "W1 = MatrixCategoryObject( matQQ, 1 );\n",
    "\n",
    "IsEqualForObjects( V1, W1 )"
   ]
  },
  {
   "cell_type": "markdown",
   "metadata": {},
   "source": [
    "Two objects with the same dimension are considered to be equal in\n",
    "$\\mathrm{mat}_{\\mathbb{Q}}$. Since the only datum needed for the\n",
    "creation of an object was a natural number (including zero),\n",
    "we can summarize:\n",
    "\n",
    "$$\\mathrm{Obj}\\big( \\mathrm{mat}_{\\mathbb{Q}} \\big) = \\mathbb{N}_0$$\n",
    "\n",
    "Next, we turn to **morphisms**.\n",
    "Given two objects\n",
    "$$\n",
    "m,n \\in \\mathrm{Obj}\\big( \\mathrm{mat}_{\\mathbb{Q}} \\big) = \\mathbb{N}_0\n",
    "$$\n",
    "the set of homomorphisms is simply given by\n",
    "$$\n",
    "\\mathrm{Hom}_{\\mathrm{mat}_{\\mathbb{Q}}}( m, n ) := \\mathbb{Q}^{m \\times n},\n",
    "$$\n",
    "i.e., $m$ by $n$ matrices with entries in $\\mathbb{Q}$.\n",
    "\n",
    "The corresponding constructor is called `VectorSpaceMorphism`."
   ]
  },
  {
   "cell_type": "code",
   "execution_count": 12,
   "metadata": {},
   "outputs": [
    {
     "name": "stdout",
     "output_type": "stream",
     "text": [
      "[ [  1,  1 ],\n",
      "  [  1,  1 ] ]\n",
      "\n",
      "A morphism in Category of matrices over Q\n"
     ]
    }
   ],
   "source": [
    "V2 = MatrixCategoryObject( matQQ, 2 );\n",
    "mat = HomalgMatrix( \"[1, 1, 1, 1]\", 2, 2, QQ );\n",
    "alpha = VectorSpaceMorphism( V2, mat, V2 );\n",
    "Display( alpha );"
   ]
  },
  {
   "cell_type": "markdown",
   "metadata": {},
   "source": [
    "Alternatively, we can use the generic name `MorphismConstructor`:"
   ]
  },
  {
   "cell_type": "code",
   "execution_count": 13,
   "metadata": {},
   "outputs": [
    {
     "name": "stdout",
     "output_type": "stream",
     "text": [
      "[ [   7,  -2 ] ]\n",
      "\n",
      "A morphism in Category of matrices over Q\n"
     ]
    }
   ],
   "source": [
    "lambda = MorphismConstructor( V1, HomalgMatrix( \"[7 , -2]\", 1, 2, QQ ), V2 );\n",
    "Display( lambda );"
   ]
  },
  {
   "cell_type": "code",
   "execution_count": 14,
   "metadata": {},
   "outputs": [
    {
     "name": "stdout",
     "output_type": "stream",
     "text": [
      "[ [  -3 ],\n",
      "  [   9 ] ]\n",
      "\n",
      "A morphism in Category of matrices over Q\n"
     ]
    }
   ],
   "source": [
    "rho = MorphismConstructor( V2, HomalgMatrix( \"[-3, 9]\", 2, 1, QQ ), V1 );\n",
    "Display( rho );"
   ]
  },
  {
   "cell_type": "markdown",
   "metadata": {},
   "source": [
    "Composition in $\\mathrm{mat}_{\\mathbb{Q}}$ is given by matrix multiplication. There are two commands for composition: `PreCompose` and `PostCompose`.\n",
    "In this worksheet, we will always write\n",
    "$$\n",
    "\\lambda \\cdot \\rho\n",
    "$$\n",
    "to refer to the **precomposition** of morphisms $\\lambda$ and $\\rho$, and\n",
    "$$\n",
    "\\lambda \\circ \\rho\n",
    "$$\n",
    "to refer to the **postcomposition** of morphisms $\\lambda$ and $\\rho$."
   ]
  },
  {
   "cell_type": "code",
   "execution_count": 15,
   "metadata": {},
   "outputs": [
    {
     "name": "stdout",
     "output_type": "stream",
     "text": [
      "[ [  -39 ] ]\n",
      "\n",
      "A morphism in Category of matrices over Q\n"
     ]
    }
   ],
   "source": [
    "Display( PreCompose( lambda, rho ) );"
   ]
  },
  {
   "cell_type": "code",
   "execution_count": 16,
   "metadata": {},
   "outputs": [
    {
     "name": "stdout",
     "output_type": "stream",
     "text": [
      "[ [  -21,    6 ],\n",
      "  [   63,  -18 ] ]\n",
      "\n",
      "A morphism in Category of matrices over Q\n"
     ]
    }
   ],
   "source": [
    "Display( PostCompose( lambda, rho ) );"
   ]
  },
  {
   "cell_type": "markdown",
   "metadata": {},
   "source": [
    "**Exercise 1**\n",
    "\n",
    "> Create a *non-zero* morphism $\\beta: V_2 \\rightarrow V_2$ in $\\mathrm{mat}_{\\mathbb{Q}}$\n",
    "such that both\n",
    "$$\n",
    "\\alpha \\cdot \\beta = 0\n",
    "$$\n",
    "and\n",
    "$$\n",
    "\\alpha \\circ \\beta = 0\\text{,}\n",
    "$$\n",
    "where $\\alpha = \\begin{pmatrix} 1 & 1 \\\\ 1 & 1\\end{pmatrix}: V_2 \\rightarrow V_2$."
   ]
  },
  {
   "cell_type": "code",
   "execution_count": 17,
   "metadata": {},
   "outputs": [],
   "source": [
    "# Solution of Exercise 1:\n",
    "\n",
    "# beta = "
   ]
  },
  {
   "cell_type": "markdown",
   "metadata": {},
   "source": [
    "`PreCompose` and `PostCompose` are examples of **CAP operations**. All CAP operations can also be called with the category as the first argument to simplify debugging in contexts with multiple categories:"
   ]
  },
  {
   "cell_type": "code",
   "execution_count": 18,
   "metadata": {},
   "outputs": [
    {
     "name": "stdout",
     "output_type": "stream",
     "text": [
      "[ [  -39 ] ]\n",
      "\n",
      "A morphism in Category of matrices over Q\n"
     ]
    }
   ],
   "source": [
    "Display( PreCompose( matQQ, lambda, rho ) );"
   ]
  },
  {
   "cell_type": "markdown",
   "metadata": {},
   "source": [
    "You can find the specifications of all CAP operations in the documentation: there is a [HTML version](https://homalg-project.github.io/CAP_project/CAP/doc/chap0_mj.html) and a [PDF version](https://homalg-project.github.io/CAP_project/CAP/download_pdf.html)."
   ]
  },
  {
   "cell_type": "markdown",
   "metadata": {},
   "source": [
    "**Identities** in $\\mathrm{mat}_{\\mathbb{Q}}$ are given by\n",
    "identity matrices."
   ]
  },
  {
   "cell_type": "code",
   "execution_count": 19,
   "metadata": {},
   "outputs": [
    {
     "name": "stdout",
     "output_type": "stream",
     "text": [
      "[ [  1,  0 ],\n",
      "  [  0,  1 ] ]\n",
      "\n",
      "An identity morphism in Category of matrices over Q\n"
     ]
    }
   ],
   "source": [
    "Display( IdentityMorphism( V2 ) );"
   ]
  },
  {
   "cell_type": "markdown",
   "metadata": {},
   "source": [
    "Classically, the category of finite dimensional vector spaces\n",
    "is given by the class of objects $\\mathrm{Obj}\\big( \\mathrm{vec}_{\\mathbb{Q}} \\big)$ \n",
    "of finite dimensional $\\mathbb{Q}$-vector spaces,\n",
    "and homomorphism sets\n",
    "$\\mathrm{Hom}_{ \\mathrm{vec}_{\\mathbb{Q}} }( V, W )$\n",
    "given by $\\mathbb{Q}$-linear maps $\\alpha: V \\rightarrow W$\n",
    "for $\\mathbb{Q}$-vector spaces $V, W$.\n",
    "\n",
    "For us, the crucial point is that the mappings\n",
    "$$\n",
    "m \\mapsto \\mathbb{Q}^m\n",
    "$$\n",
    "and\n",
    "$$\n",
    "(a_{ij})_{\\substack{i = 1, \\dots m \\\\ j = 1, \\dots n}} \\mapsto\n",
    "\\big( \\mathbb{Q}^m \\stackrel{(a_{ij})_{ij}}{\\longrightarrow} \\mathbb{Q}^n \\big)\n",
    "$$\n",
    "define a functor\n",
    "$$\n",
    "\\mathrm{mat}_{\\mathbb{Q}} \\longrightarrow \\mathrm{vec}_{\\mathbb{Q}}\n",
    "$$\n",
    "that is an equivalence of categories.\n",
    "\n",
    "Thus, simply regarded as categories,\n",
    "$\\mathrm{mat}_{\\mathbb{Q}}$ and $\\mathrm{vec}_{\\mathbb{Q}}$\n",
    "are indistinguishable.\n",
    "\n",
    "Of course, this statement can only be computationally useful if \n",
    "there are interesting computations to do that only concern the\n",
    "categorical structure of $\\mathrm{vec}_{\\mathbb{Q}}$.\n",
    "Luckily, there is a lot that we can compute, and this is\n",
    "due to the various constructions provided by the\n",
    "concept of an *abelian category*."
   ]
  },
  {
   "cell_type": "markdown",
   "metadata": {},
   "source": [
    "### Ab-categories"
   ]
  },
  {
   "cell_type": "markdown",
   "metadata": {},
   "source": [
    "An Ab-category (which is much weaker than an abelian category)\n",
    "is a category in which all homomorphism sets are abelian groups,\n",
    "and composition distributes over addition."
   ]
  },
  {
   "cell_type": "code",
   "execution_count": 20,
   "metadata": {},
   "outputs": [
    {
     "name": "stdout",
     "output_type": "stream",
     "text": [
      "[ [  2,  2 ],\n",
      "  [  2,  2 ] ]\n",
      "\n",
      "A morphism in Category of matrices over Q\n"
     ]
    }
   ],
   "source": [
    "Display( alpha + alpha );"
   ]
  },
  {
   "cell_type": "code",
   "execution_count": 21,
   "metadata": {},
   "outputs": [
    {
     "name": "stdout",
     "output_type": "stream",
     "text": [
      "[ [  -1,  -1 ],\n",
      "  [  -1,  -1 ] ]\n",
      "\n",
      "A morphism in Category of matrices over Q\n"
     ]
    }
   ],
   "source": [
    "Display( -alpha );"
   ]
  },
  {
   "cell_type": "code",
   "execution_count": 22,
   "metadata": {},
   "outputs": [
    {
     "name": "stdout",
     "output_type": "stream",
     "text": [
      "[ [  0,  0 ] ]\n",
      "\n",
      "A zero morphism in Category of matrices over Q\n"
     ]
    }
   ],
   "source": [
    "Display( ZeroMorphism( V1, V2 ) );"
   ]
  },
  {
   "cell_type": "code",
   "execution_count": 23,
   "metadata": {},
   "outputs": [
    {
     "data": {
      "text/plain": [
       "true"
      ]
     },
     "execution_count": 23,
     "metadata": {},
     "output_type": "execute_result"
    }
   ],
   "source": [
    "gamma = VectorSpaceMorphism( V1, HomalgMatrix( \"[3,5]\", 1, 2, QQ ), V2 );;\n",
    "\n",
    "delta = VectorSpaceMorphism( V1, HomalgMatrix( \"[-9, 0]\", 1, 2, QQ ), V2 );;\n",
    "\n",
    "IsCongruentForMorphisms(\n",
    "    PreCompose( gamma + delta, alpha ),\n",
    "    PreCompose( gamma, alpha ) + PreCompose( delta, alpha )\n",
    ")"
   ]
  },
  {
   "cell_type": "markdown",
   "metadata": {},
   "source": [
    "The command for comparing morphisms on a mathematical level is `IsCongruentForMorphisms`.\n",
    "\n",
    "*Remark: there is also a command called `IsEqualForMorphisms` that compares\n",
    "morphisms on a technical level. We will see the difference between\n",
    "these two notions in our discussion\n",
    "of the category $\\mathrm{fpres}_R$.*\n",
    "\n",
    "Given two morphisms $\\alpha, \\beta: A \\rightarrow B$, we will write\n",
    "$$\n",
    "\\alpha \\sim_{A,B} \\beta\n",
    "$$\n",
    "or simply\n",
    "$$\n",
    "\\alpha \\sim \\beta\n",
    "$$\n",
    "when we mean that they are congruent, i.e., equal on a mathematical level."
   ]
  },
  {
   "cell_type": "markdown",
   "metadata": {},
   "source": [
    "### Direct sums"
   ]
  },
  {
   "cell_type": "markdown",
   "metadata": {},
   "source": [
    "The following description is taken from the CAP manual:\n",
    "\n",
    "For a given list $D = (S_1, \\dots, S_n)$ in an Ab-category, a direct sum consists of five parts:\n",
    "- an object $S$,\n",
    "- a list of morphisms $\\pi = (\\pi_i: S \\rightarrow S_i)_{i = 1 \\dots n}$,\n",
    "- a list of morphisms $\\iota = (\\iota_i: S_i \\rightarrow S)_{i = 1 \\dots n}$\n",
    "- a  dependent  function  $u_{\\mathrm{in}}$  mapping  every  list  $\\tau  =  (  \\tau_i:  T  \\rightarrow  S_i  )_{i  =  1 \\dots n}$ \n",
    "to a morphism $u_{\\mathrm{in}}(\\tau): T \\rightarrow S$ such that $\\pi_i \\circ u_{\\mathrm{in}}(\\tau) \\sim_{T,S_i} \\tau_i$ for all $i = 1, \\dots, n$.\n",
    "- a  dependent  function  $u_{\\mathrm{out}}$  mapping  every  list  $\\tau  =  (  \\tau_i:  S_i  \\rightarrow  T  )_{i  = 1 \\dots n}$ to a morphism $u_{\\mathrm{out}}(\\tau): S \\rightarrow T$ such that $u_{\\mathrm{out}}(\\tau) \\circ \\iota_i \\sim_{S_i, T} \\tau_i$ for all $i = 1, \\dots, n$,\n",
    "\n",
    "such that\n",
    "\n",
    " - $\\sum_{i=1}^{n} \\iota_i \\circ \\pi_i \\sim_{S,S} \\mathrm{id}_S$,\n",
    "- $\\pi_j \\circ \\iota_i \\sim_{S_i,S_j} \\delta_{i,j}$,\n",
    "\n",
    "where  $\\delta_{i,j}  \\in  \\mathrm{Hom}(  S_i,  S_j  )$ is the identity if $i=j$, and $0$ otherwise. The $5$-tuple $(S, \\pi, \\iota, u_{\\mathrm{in}},\n",
    "  u_{\\mathrm{out}})$ is called a direct sum of $D$. We denote the object $S$ of such a $5$-tuple by $\\bigoplus_{i=1}^n S_i$. We say that the morphisms\n",
    "  $u_{\\mathrm{in}}(\\tau),  u_{\\mathrm{out}}(\\tau)$ are induced by the universal property of the direct sum.\n",
    "\n",
    "We show how the described functionalities of direct sums\n",
    "can be addressed in CAP:"
   ]
  },
  {
   "cell_type": "markdown",
   "metadata": {},
   "source": [
    "The command `DirectSum` takes as an input \n",
    "a list of objects $[S_1, \\dots, S_n]$\n",
    "and computes a direct sum object\n",
    "$\\bigoplus_{i=1}^n S_i$:"
   ]
  },
  {
   "cell_type": "code",
   "execution_count": 24,
   "metadata": {},
   "outputs": [
    {
     "name": "stdout",
     "output_type": "stream",
     "text": [
      "A vector space object over Q of dimension 6\n"
     ]
    }
   ],
   "source": [
    "S = DirectSum( V1, V2, V2, V1 );\n",
    "Display( S );"
   ]
  },
  {
   "cell_type": "markdown",
   "metadata": {},
   "source": [
    "`DirectSum` with four arguments is a convenience operation which internally expands to"
   ]
  },
  {
   "cell_type": "code",
   "execution_count": 25,
   "metadata": {},
   "outputs": [
    {
     "name": "stdout",
     "output_type": "stream",
     "text": [
      "A vector space object over Q of dimension 6\n"
     ]
    }
   ],
   "source": [
    "D = [ V1, V2, V2, V1 ];\n",
    "S = DirectSum( matQQ, D );\n",
    "Display( S );"
   ]
  },
  {
   "cell_type": "code",
   "execution_count": 26,
   "metadata": {},
   "outputs": [
    {
     "name": "stdout",
     "output_type": "stream",
     "text": [
      "[ [  0,  0 ],\n",
      "  [  1,  0 ],\n",
      "  [  0,  1 ],\n",
      "  [  0,  0 ],\n",
      "  [  0,  0 ],\n",
      "  [  0,  0 ] ]\n",
      "\n",
      "A morphism in Category of matrices over Q\n"
     ]
    }
   ],
   "source": [
    "pi1 = ProjectionInFactorOfDirectSum( D, 2 );\n",
    "Display( pi1 );"
   ]
  },
  {
   "cell_type": "markdown",
   "metadata": {},
   "source": [
    "Note that the argument in\n",
    "`ProjectionInFactorOfDirectSum`\n",
    "is the list $D$, not the already constructed object $S$.\n",
    "The object $S$ is simply given by the number $6$ and\n",
    "does not know anything about the way it was created."
   ]
  },
  {
   "cell_type": "code",
   "execution_count": 27,
   "metadata": {},
   "outputs": [
    {
     "name": "stdout",
     "output_type": "stream",
     "text": [
      "[ [  0,  1,  0,  0,  0,  0 ],\n",
      "  [  0,  0,  1,  0,  0,  0 ] ]\n",
      "\n",
      "A morphism in Category of matrices over Q\n"
     ]
    }
   ],
   "source": [
    "iota1 = InjectionOfCofactorOfDirectSum( D, 2 );\n",
    "Display( iota1 );"
   ]
  },
  {
   "cell_type": "code",
   "execution_count": 28,
   "metadata": {},
   "outputs": [
    {
     "data": {
      "text/plain": [
       "true"
      ]
     },
     "execution_count": 28,
     "metadata": {},
     "output_type": "execute_result"
    }
   ],
   "source": [
    "IsCongruentForMorphisms(\n",
    "    IdentityMorphism( V2 ),\n",
    "    PreCompose( iota1, pi1 )\n",
    ")"
   ]
  },
  {
   "cell_type": "code",
   "execution_count": 29,
   "metadata": {},
   "outputs": [
    {
     "name": "stdout",
     "output_type": "stream",
     "text": [
      "[ [   0,   1,   1,  -3,   0,   0 ],\n",
      "  [   0,   1,   1,   0,  -3,   0 ] ]\n",
      "\n",
      "A morphism in Category of matrices over Q\n"
     ]
    }
   ],
   "source": [
    "Display( \n",
    "    UniversalMorphismIntoDirectSum( D, V2, [\n",
    "        ZeroMorphism( V2, V1 ),\n",
    "        alpha,\n",
    "        -3 * IdentityMorphism( V2 ),\n",
    "        ZeroMorphism( V2, V1 )\n",
    "    ] )\n",
    ");"
   ]
  },
  {
   "cell_type": "code",
   "execution_count": 30,
   "metadata": {},
   "outputs": [
    {
     "name": "stdout",
     "output_type": "stream",
     "text": [
      "[ [   0,   0 ],\n",
      "  [   1,   1 ],\n",
      "  [   1,   1 ],\n",
      "  [  -3,   0 ],\n",
      "  [   0,  -3 ],\n",
      "  [   0,   0 ] ]\n",
      "\n",
      "A morphism in Category of matrices over Q\n"
     ]
    }
   ],
   "source": [
    "Display( \n",
    "    UniversalMorphismFromDirectSum( D, V2, [\n",
    "        ZeroMorphism( V1, V2 ),\n",
    "        alpha,\n",
    "        -3 * IdentityMorphism( V2 ),\n",
    "        ZeroMorphism( V1, V2 )\n",
    "    ] )\n",
    ");"
   ]
  },
  {
   "cell_type": "markdown",
   "metadata": {},
   "source": [
    "**Exercise 2**\n",
    "Create the morphism\n",
    "$$\\alpha = \\begin{pmatrix} 1 & 1 \\\\ 1 & 1\\end{pmatrix}: V_2 \\rightarrow V_2$$ \n",
    "\n",
    "only using the object $V_1$ and the following CAP operations:\n",
    "- `IdentityMorphism`\n",
    "- `UniversalMorphismFromDirectSum`\n",
    "- `UniversalMorphismIntoDirectSum`\n",
    " "
   ]
  },
  {
   "cell_type": "code",
   "execution_count": 31,
   "metadata": {},
   "outputs": [],
   "source": [
    "# Solution of Exercise 2:\n",
    "\n"
   ]
  },
  {
   "cell_type": "markdown",
   "metadata": {},
   "source": [
    "### Kernels"
   ]
  },
  {
   "cell_type": "markdown",
   "metadata": {},
   "source": [
    "Given a morphism \n",
    "\n",
    "$$\n",
    "\\mu: V \\rightarrow W\n",
    "$$\n",
    "\n",
    "between vector spaces $V,W$, the common\n",
    "way to describe its kernel set-theoretically\n",
    "is given by\n",
    "\n",
    "$$\n",
    "\\mathrm{kernel}(\\mu) := \\{ v \\in V \\mid \\mu(v) = 0 \\}.\n",
    "$$\n",
    "\n",
    "Clearly, this definition makes no sense in our computational\n",
    "model $\\mathrm{mat}_{\\mathbb{Q}}$, where we do not have\n",
    "access to \"elements of vector spaces\", since objects in\n",
    "$\\mathrm{mat}_{\\mathbb{Q}}$ are\n",
    "simply represented by natural numbers.\n",
    "\n",
    "**Nevertheless, category theory provides enough language\n",
    "that lets us work with kernels anyway.**\n",
    "\n",
    "\n",
    "The following description is taken from the CAP manual:\n",
    "\n",
    "For a given morphism $\\alpha: A \\rightarrow B$, a kernel of $\\alpha$ consists of three parts:\n",
    "- an object $K$,\n",
    "- a morphism $\\iota: K \\rightarrow A$ such that $\\alpha \\circ \\iota \\sim_{K,B} 0$,\n",
    "- a  dependent  function $u$ mapping each morphism $\\tau: T \\rightarrow A$ satisfying $\\alpha \\circ \\tau \\sim_{T,B} 0$ to a morphism $u(\\tau): T \\rightarrow K$ such that $\\iota \\circ u( \\tau ) \\sim_{T,A} \\tau$.\n",
    "\n",
    "The  triple  $( K, \\iota, u )$ is called a kernel of $\\alpha$ if the morphisms $u( \\tau )$ are uniquely determined up to congruence of morphisms. We denote the object $K$ of such a\n",
    "  triple  by  $\\mathrm{KernelObject}(\\alpha)$. We  say  that the morphism $u(\\tau)$ is induced by the universal property of the kernel.\n",
    "  \n",
    "  \n",
    "We show how the described functionalities of kernels\n",
    "can be addressed in CAP:\n"
   ]
  },
  {
   "cell_type": "markdown",
   "metadata": {},
   "source": [
    "Recall that $\\alpha$ was given by"
   ]
  },
  {
   "cell_type": "code",
   "execution_count": 32,
   "metadata": {},
   "outputs": [
    {
     "name": "stdout",
     "output_type": "stream",
     "text": [
      "[ [  1,  1 ],\n",
      "  [  1,  1 ] ]\n",
      "\n",
      "A morphism in Category of matrices over Q\n"
     ]
    }
   ],
   "source": [
    "Display( alpha );"
   ]
  },
  {
   "cell_type": "code",
   "execution_count": 33,
   "metadata": {},
   "outputs": [
    {
     "name": "stdout",
     "output_type": "stream",
     "text": [
      "A vector space object over Q of dimension 1\n"
     ]
    }
   ],
   "source": [
    "K = KernelObject( alpha );;\n",
    "Display( K );"
   ]
  },
  {
   "cell_type": "code",
   "execution_count": 34,
   "metadata": {},
   "outputs": [
    {
     "name": "stdout",
     "output_type": "stream",
     "text": [
      "[ [  -1,   1 ] ]\n",
      "\n",
      "A split monomorphism in Category of matrices over Q\n"
     ]
    }
   ],
   "source": [
    "emb = KernelEmbedding( alpha );;\n",
    "Display( emb );"
   ]
  },
  {
   "cell_type": "markdown",
   "metadata": {},
   "source": [
    "So, instead of \"seeing\" the linear dependencies of the rows\n",
    "of the underlying matrix of $\\alpha$ within the kernel object,\n",
    "we can \"see\" them in the kernel embedding of $\\alpha$ instead."
   ]
  },
  {
   "cell_type": "markdown",
   "metadata": {},
   "source": [
    "Next, we create a test morphism."
   ]
  },
  {
   "cell_type": "code",
   "execution_count": 35,
   "metadata": {},
   "outputs": [
    {
     "name": "stdout",
     "output_type": "stream",
     "text": [
      "[ [  -2,   2 ],\n",
      "  [  -1,   1 ] ]\n",
      "\n",
      "A morphism in Category of matrices over Q\n"
     ]
    }
   ],
   "source": [
    "tau = UniversalMorphismFromDirectSum( [ K, K ], V2, [ 2*emb, emb ] );\n",
    "Display( tau );"
   ]
  },
  {
   "cell_type": "markdown",
   "metadata": {},
   "source": [
    "From the induced map of the universal property of the kernel,\n",
    "we can read off how the rows of $\\tau$ are given as linear\n",
    "combinations of the rows in the kernel embedding."
   ]
  },
  {
   "cell_type": "code",
   "execution_count": 36,
   "metadata": {},
   "outputs": [
    {
     "name": "stdout",
     "output_type": "stream",
     "text": [
      "[ [  2 ],\n",
      "  [  1 ] ]\n",
      "\n",
      "A morphism in Category of matrices over Q\n"
     ]
    }
   ],
   "source": [
    "lift = KernelLift( alpha, tau );\n",
    "Display( lift );"
   ]
  },
  {
   "cell_type": "code",
   "execution_count": 37,
   "metadata": {},
   "outputs": [
    {
     "data": {
      "text/plain": [
       "true"
      ]
     },
     "execution_count": 37,
     "metadata": {},
     "output_type": "execute_result"
    }
   ],
   "source": [
    "IsCongruentForMorphisms(\n",
    "    PreCompose( lift, emb ),\n",
    "    tau\n",
    ")"
   ]
  },
  {
   "cell_type": "markdown",
   "metadata": {},
   "source": [
    "*Remark: on a technical level, Gaussian elemination is triggered in order to \n",
    "compute the outputs of the commands given above. However, as long as you can phrase\n",
    "and interpret the entities that you wish to compute categorically, you do not need to know\n",
    "the technicalities behind the commands.*"
   ]
  },
  {
   "cell_type": "markdown",
   "metadata": {},
   "source": [
    "**Exercise 3**\n",
    "Write a function for the functoriality of the kernel, i.e., a function that takes as an input\n",
    "$$\\mu_1: A \\rightarrow B$$\n",
    "$$\\mu_2: A' \\rightarrow B'$$\n",
    "$$\\nu_1: A \\rightarrow A'$$\n",
    "$$\\nu_2: B \\rightarrow B'$$\n",
    "such that\n",
    "$$\\mu_1 \\cdot \\nu_2 \\sim \\nu_1 \\cdot \\mu_2\\text{,}$$\n",
    "and gives as an output a morphism\n",
    "$$\\iota: \\mathrm{KernelObject}( \\mu_1 ) \\longrightarrow \\mathrm{KernelObject}( \\mu_2 )$$\n",
    "such that\n",
    "$$\\iota \\cdot \\mathrm{KernelEmbedding}( \\mu_2 ) \\sim \\mathrm{KernelEmbedding}( \\mu_1 ) \\cdot \\nu_1\\text{.}$$\n",
    "\n",
    "Only use those CAP commands that you have already seen in this worksheet."
   ]
  },
  {
   "cell_type": "code",
   "execution_count": 38,
   "metadata": {},
   "outputs": [],
   "source": [
    "# Solution of Exercise 3\n",
    "\n"
   ]
  },
  {
   "cell_type": "markdown",
   "metadata": {},
   "source": [
    "### Cokernels"
   ]
  },
  {
   "cell_type": "markdown",
   "metadata": {},
   "source": [
    "In order to properly introduce the cokernel of a morphism\n",
    "\n",
    "$$\n",
    "\\mu: V \\rightarrow W\n",
    "$$\n",
    "\n",
    "between vector spaces $V,W$ in a set-theoretical way,\n",
    "we would need to introduce the concept of images and quotient\n",
    "spaces first.\n",
    "\n",
    "In the language of category theory, we can simply state\n",
    "that the definition of a cokernel is dual to the definition\n",
    "of a kernel, i.e., simply reverse all the arrows in \n",
    "the categorical definition of the kernel.\n",
    "\n",
    "The following description is taken from the CAP manual:\n",
    "\n",
    "For a given morphism $\\alpha: A \\rightarrow B$, a cokernel of $\\alpha$ consists of three parts:\n",
    "  - an object $K$,\n",
    "  - a morphism $\\epsilon: B \\rightarrow K$ such that $\\epsilon \\circ \\alpha \\sim_{A,K} 0$,\n",
    "  - a  dependent  function  $u$ mapping each $\\tau: B \\rightarrow T$ satisfying $\\tau \\circ \\alpha \\sim_{A, T} 0$ to a morphism $u(\\tau):K \\rightarrow T$ such that $u(\\tau) \\circ \\epsilon \\sim_{B,T} \\tau$.\n",
    "\n",
    "The  triple  $(  K,  \\epsilon, u )$ is called a cokernel of $\\alpha$ if the morphisms $u( \\tau )$ are uniquely determined up to congruence of morphisms. We denote the object $K$ of\n",
    "  such  a  triple  by $\\mathrm{CokernelObject}(\\alpha)$. We say that the morphism $u(\\tau)$ is induced by the universal property of the cokernel.\n",
    "  \n",
    "We show how the described functionalities of cokernels\n",
    "can be addressed in CAP:"
   ]
  },
  {
   "cell_type": "markdown",
   "metadata": {},
   "source": [
    "Recall that $\\alpha$ was given by"
   ]
  },
  {
   "cell_type": "code",
   "execution_count": 39,
   "metadata": {},
   "outputs": [
    {
     "name": "stdout",
     "output_type": "stream",
     "text": [
      "[ [  1,  1 ],\n",
      "  [  1,  1 ] ]\n",
      "\n",
      "A morphism in Category of matrices over Q\n"
     ]
    }
   ],
   "source": [
    "Display( alpha );"
   ]
  },
  {
   "cell_type": "code",
   "execution_count": 40,
   "metadata": {},
   "outputs": [
    {
     "name": "stdout",
     "output_type": "stream",
     "text": [
      "A vector space object over Q of dimension 1\n"
     ]
    }
   ],
   "source": [
    "C = CokernelObject( alpha );\n",
    "Display( C );"
   ]
  },
  {
   "cell_type": "code",
   "execution_count": 41,
   "metadata": {},
   "outputs": [
    {
     "name": "stdout",
     "output_type": "stream",
     "text": [
      "[ [  -1 ],\n",
      "  [   1 ] ]\n",
      "\n",
      "A split epimorphism in Category of matrices over Q\n"
     ]
    }
   ],
   "source": [
    "proj = CokernelProjection( alpha );\n",
    "Display( proj );"
   ]
  },
  {
   "cell_type": "code",
   "execution_count": 42,
   "metadata": {},
   "outputs": [
    {
     "name": "stdout",
     "output_type": "stream",
     "text": [
      "[ [  1 ] ]\n",
      "\n",
      "A morphism in Category of matrices over Q\n"
     ]
    }
   ],
   "source": [
    "tau = proj;;\n",
    "colift = CokernelColift( alpha, proj );;\n",
    "Display( colift );"
   ]
  },
  {
   "cell_type": "code",
   "execution_count": 43,
   "metadata": {},
   "outputs": [],
   "source": [
    "IsCongruentForMorphisms(\n",
    "    PreCompose( proj, colift ),\n",
    "    tau\n",
    ");"
   ]
  },
  {
   "cell_type": "markdown",
   "metadata": {},
   "source": [
    "**Exercise 4**\n",
    "\n",
    "Construct your own example of morphisms\n",
    "\n",
    "$$\\sigma, \\tau$$\n",
    "\n",
    "such that\n",
    "`CokernelColift( sigma, tau )` is neither the identity nor zero."
   ]
  },
  {
   "cell_type": "code",
   "execution_count": 44,
   "metadata": {},
   "outputs": [],
   "source": [
    "# Solution of Exercise 4\n",
    "\n"
   ]
  },
  {
   "cell_type": "markdown",
   "metadata": {},
   "source": [
    "### Lift along monos, colift along epis"
   ]
  },
  {
   "cell_type": "markdown",
   "metadata": {},
   "source": [
    "The definition of an abelian category involves the following two statements:\n",
    "> every mono is the kernel of its cokernel\n",
    "\n",
    "and\n",
    "> every epi is the cokernel of its kernel.\n",
    "\n",
    "Unwrapping these shortcut statements, we see that\n",
    "we have to able to compute\n",
    "> lifts along monomorphisms\n",
    "\n",
    "and\n",
    "> colifts along epimorphisms.\n",
    "\n",
    "We start with lifts along monomorphisms."
   ]
  },
  {
   "cell_type": "code",
   "execution_count": 45,
   "metadata": {},
   "outputs": [
    {
     "name": "stdout",
     "output_type": "stream",
     "text": [
      "[ [   1,  -1 ] ]\n",
      "\n",
      "A morphism in Category of matrices over Q\n"
     ]
    }
   ],
   "source": [
    "mono = VectorSpaceMorphism( V1, HomalgMatrix( \"[1,-1]\", 1, 2, QQ ), V2 );\n",
    "Display( mono );"
   ]
  },
  {
   "cell_type": "code",
   "execution_count": 46,
   "metadata": {},
   "outputs": [],
   "source": [
    "IsMonomorphism( mono );"
   ]
  },
  {
   "cell_type": "code",
   "execution_count": 47,
   "metadata": {},
   "outputs": [
    {
     "name": "stdout",
     "output_type": "stream",
     "text": [
      "[ [   2,  -2 ],\n",
      "  [   3,  -3 ] ]\n",
      "\n",
      "A morphism in Category of matrices over Q\n"
     ]
    }
   ],
   "source": [
    "tau = VectorSpaceMorphism( V2, HomalgMatrix( \"[2,-2, 3,-3]\", 2, 2, QQ ), V2 );\n",
    "Display( tau );"
   ]
  },
  {
   "cell_type": "code",
   "execution_count": 48,
   "metadata": {},
   "outputs": [],
   "source": [
    "IsZeroForMorphisms( \n",
    "    PreCompose( tau, CokernelProjection( mono ) )\n",
    ");"
   ]
  },
  {
   "cell_type": "markdown",
   "metadata": {},
   "source": [
    "Since we expect `mono` to be the kernel embedding of its cokernel projection,\n",
    "and since `tau` is a proper test morphism, we should be able\n",
    "to compute the lift:"
   ]
  },
  {
   "cell_type": "code",
   "execution_count": 49,
   "metadata": {},
   "outputs": [
    {
     "name": "stdout",
     "output_type": "stream",
     "text": [
      "[ [  2 ],\n",
      "  [  3 ] ]\n",
      "\n",
      "A morphism in Category of matrices over Q\n"
     ]
    }
   ],
   "source": [
    "lift = LiftAlongMonomorphism( mono, tau );\n",
    "Display( lift );"
   ]
  },
  {
   "cell_type": "markdown",
   "metadata": {},
   "source": [
    "**Exercise 5**\n",
    "The command for colifts along epimorphism is given by\n",
    "`ColiftAlongEpimorphism`. Create an example for its usage."
   ]
  },
  {
   "cell_type": "code",
   "execution_count": 50,
   "metadata": {},
   "outputs": [],
   "source": [
    "# Solution of Exercise 5\n",
    "\n"
   ]
  },
  {
   "cell_type": "markdown",
   "metadata": {},
   "source": [
    "### Category of finitely presented left modules"
   ]
  },
  {
   "cell_type": "markdown",
   "metadata": {},
   "source": [
    "As promised, we introduce a computable\n",
    "model of the category $\\mathrm{mod}_R$ of finitely presented (left)\n",
    "modules over a computable ring $R$.\n",
    "A **(left) computable ring** is a ring $R$ \n",
    "equipped with\n",
    "\n",
    "- an algorithm to compute a finite generating set of the row syzygies of a given matrix,\n",
    "- an algorithm to decide the existence and to find a particular solution of a left-sided inhomogeneous linear system, i.e., a linear system of the form $X \\cdot A = B$ for given matrices $A,B$ over $R$.\n",
    "\n",
    "*Remark: the existence of finite generating sets of row syzygies is actually\n",
    "equivalent to the category $\\mathrm{mod}_R$\n",
    "being abelian.*\n",
    "\n",
    "In order to get access to some instances of computable rings,\n",
    "we load another $\\mathsf{GAP}$ package."
   ]
  },
  {
   "cell_type": "code",
   "execution_count": 51,
   "metadata": {},
   "outputs": [],
   "source": [
    "LoadPackage( \"RingsForHomalg\" );"
   ]
  },
  {
   "cell_type": "markdown",
   "metadata": {},
   "source": [
    "We are going to create the polynomial ring\n",
    "$$\n",
    "R := \\mathbb{Q}[x,y,z].\n",
    "$$"
   ]
  },
  {
   "cell_type": "code",
   "execution_count": 52,
   "metadata": {},
   "outputs": [],
   "source": [
    "R = HomalgFieldOfRationalsInSingular() * \"x,y,z\";"
   ]
  },
  {
   "cell_type": "markdown",
   "metadata": {},
   "source": [
    "*Remark: on a technical level, we have just started a $\\mathsf{Singular}$ session\n",
    "in the background. All computations that concern the ring $R$ will be delegated\n",
    "to this external $\\mathsf{Singular}$ session.*"
   ]
  },
  {
   "cell_type": "markdown",
   "metadata": {},
   "source": [
    "*Convention: when we say module, we will always mean a left module.*\n",
    "\n",
    "An $R$-module $M$ is finitely presented if\n",
    "$$ \\exists m,n \\in \\mathbb{N}_0 \\exists (a_{ij})_{ij} \\in R^{m \\times n}: M \\simeq \\mathrm{CokernelObject}( R^m \\stackrel{(a_{ij})_{ij}}{\\longrightarrow} R^n ) $$\n",
    "\n",
    "Thus, matrices with entries in $R$ are great candidates for a data structure\n",
    "of the objects in our computational model $\\mathrm{fpres}_R$.\n",
    "\n",
    "Our computational model $\\mathrm{fpres}_R$ for finitely presented (left) modules,\n",
    "which we call the **category of left presentations** of $R$, is part of the following $\\textsf{GAP}$-package:"
   ]
  },
  {
   "cell_type": "code",
   "execution_count": 53,
   "metadata": {},
   "outputs": [],
   "source": [
    "LoadPackage( \"ModulePresentationsForCAP\" );"
   ]
  },
  {
   "cell_type": "code",
   "execution_count": 54,
   "metadata": {},
   "outputs": [
    {
     "data": {
      "text/plain": [
       "GAP: Category of left presentations of Q[x,y,z]"
      ]
     },
     "execution_count": 54,
     "metadata": {},
     "output_type": "execute_result"
    }
   ],
   "source": [
    "fpresR = LeftPresentations( R )"
   ]
  },
  {
   "cell_type": "markdown",
   "metadata": {},
   "source": [
    "To construct an object in $\\mathrm{fpres}_R$, we use the following constructor:"
   ]
  },
  {
   "cell_type": "code",
   "execution_count": 55,
   "metadata": {},
   "outputs": [
    {
     "name": "stdout",
     "output_type": "stream",
     "text": [
      "x,1,\n",
      "1,0 \n",
      "\n",
      "An object in Category of left presentations of Q[x,y,z]\n"
     ]
    }
   ],
   "source": [
    "M1 = AsLeftPresentation( HomalgMatrix( \"[x,1,1,0]\", 2, 2, R ) );;\n",
    "Display( M1 );"
   ]
  },
  {
   "cell_type": "code",
   "execution_count": 56,
   "metadata": {},
   "outputs": [
    {
     "name": "stdout",
     "output_type": "stream",
     "text": [
      "1,0,\n",
      "0,1 \n",
      "\n",
      "An object in Category of left presentations of Q[x,y,z]\n"
     ]
    }
   ],
   "source": [
    "M2 = AsLeftPresentation( HomalgIdentityMatrix( 2, R ) );;\n",
    "Display( M2 );"
   ]
  },
  {
   "cell_type": "markdown",
   "metadata": {},
   "source": [
    "The two objects $M_1, M_2$ that we have just created\n",
    "are considered to be unequal, since their underlying\n",
    "matrices are unequal:"
   ]
  },
  {
   "cell_type": "code",
   "execution_count": 57,
   "metadata": {},
   "outputs": [
    {
     "data": {
      "text/plain": [
       "false"
      ]
     },
     "execution_count": 57,
     "metadata": {},
     "output_type": "execute_result"
    }
   ],
   "source": [
    "IsEqualForObjects( M1, M2 )"
   ]
  },
  {
   "cell_type": "markdown",
   "metadata": {},
   "source": [
    "However, both objects are isomorphic to the zero object:"
   ]
  },
  {
   "cell_type": "code",
   "execution_count": 58,
   "metadata": {},
   "outputs": [
    {
     "data": {
      "text/plain": [
       "true"
      ]
     },
     "execution_count": 58,
     "metadata": {},
     "output_type": "execute_result"
    }
   ],
   "source": [
    "IsZeroForObjects( M1 )"
   ]
  },
  {
   "cell_type": "code",
   "execution_count": 59,
   "metadata": {},
   "outputs": [
    {
     "data": {
      "text/plain": [
       "true"
      ]
     },
     "execution_count": 59,
     "metadata": {},
     "output_type": "execute_result"
    }
   ],
   "source": [
    "IsZeroForObjects( M2 )"
   ]
  },
  {
   "cell_type": "markdown",
   "metadata": {},
   "source": [
    "This computation reflects the fact that the matrix over $R$\n",
    "presenting a module $M$ is not uniquely determined.\n",
    "Nevertheless, this does not prevent us from taking such matrices\n",
    "as a data structure for the objects in $\\mathrm{fpres}_R$,\n",
    "as long as our choice for the morphisms will guarantee that we\n",
    "will end up with an equivalence\n",
    "$$\n",
    "\\mathrm{mod}_R \\simeq \\mathrm{fpres}_R.\n",
    "$$\n",
    "\n",
    "A morphism between two objects\n",
    "$$\n",
    "(a_{ij})_{ij}, (b_{kl})_{kl} \\in \\mathrm{Obj}\\big( \\mathrm{fpres}_R \\big)\n",
    "$$\n",
    "is given by a matrix\n",
    "$$\n",
    "(c_{jl})_{jl}\n",
    "$$\n",
    "over $R$ such that there exists another matrix $( d_{ik} )_{ik}$ over $R$\n",
    "such that\n",
    "$$(a_{ij})_{ij} \\cdot (c_{jl})_{jl}=(d_{ik})_{ik} \\cdot (b_{kl})_{kl}\\text{.}$$\n",
    "\n",
    "As an example, let us create the natural epimorphism\n",
    "$$\n",
    "\\epsilon: R \\twoheadrightarrow R/\\langle x,y,z \\rangle\n",
    "$$"
   ]
  },
  {
   "cell_type": "code",
   "execution_count": 60,
   "metadata": {},
   "outputs": [
    {
     "name": "stdout",
     "output_type": "stream",
     "text": [
      "(an empty 0 x 1 matrix)\n",
      "\n",
      "A projective object in Category of left presentations of Q[x,y,z]\n"
     ]
    }
   ],
   "source": [
    "F = FreeLeftPresentation( 1, R );;\n",
    "Display( F );"
   ]
  },
  {
   "cell_type": "code",
   "execution_count": 61,
   "metadata": {},
   "outputs": [
    {
     "name": "stdout",
     "output_type": "stream",
     "text": [
      "x,\n",
      "y,\n",
      "z \n",
      "\n",
      "An object in Category of left presentations of Q[x,y,z]\n"
     ]
    }
   ],
   "source": [
    "M = AsLeftPresentation( HomalgMatrix( \"[ x, y, z ]\", 3, 1, R ) );;\n",
    "Display( M );"
   ]
  },
  {
   "cell_type": "code",
   "execution_count": 62,
   "metadata": {},
   "outputs": [
    {
     "name": "stdout",
     "output_type": "stream",
     "text": [
      "1\n",
      "\n",
      "A morphism in Category of left presentations of Q[x,y,z]\n"
     ]
    }
   ],
   "source": [
    "epsilon = PresentationMorphism( F, HomalgIdentityMatrix( 1, R ), M );\n",
    "Display( epsilon );"
   ]
  },
  {
   "cell_type": "markdown",
   "metadata": {},
   "source": [
    "To check that the existence statement in the definition of \n",
    "a morphism in $\\mathrm{fpres}_R$ is satisfied, we can \n",
    "call the following command:"
   ]
  },
  {
   "cell_type": "code",
   "execution_count": 63,
   "metadata": {},
   "outputs": [
    {
     "data": {
      "text/plain": [
       "true"
      ]
     },
     "execution_count": 63,
     "metadata": {},
     "output_type": "execute_result"
    }
   ],
   "source": [
    "IsWellDefined( epsilon )"
   ]
  },
  {
   "cell_type": "markdown",
   "metadata": {},
   "source": [
    "A quicker way to create $\\epsilon$ is the following:"
   ]
  },
  {
   "cell_type": "code",
   "execution_count": 64,
   "metadata": {},
   "outputs": [
    {
     "name": "stdout",
     "output_type": "stream",
     "text": [
      "1\n",
      "\n",
      "A morphism in Category of left presentations of Q[x,y,z]\n"
     ]
    }
   ],
   "source": [
    "Display( CoverByFreeModule( M ) )"
   ]
  },
  {
   "cell_type": "markdown",
   "metadata": {},
   "source": [
    "Mathematically, the following matrix gives also rise to the morphism $\\epsilon$:"
   ]
  },
  {
   "cell_type": "code",
   "execution_count": 65,
   "metadata": {},
   "outputs": [
    {
     "name": "stdout",
     "output_type": "stream",
     "text": [
      "x+1\n",
      "\n",
      "A morphism in Category of left presentations of Q[x,y,z]\n"
     ]
    }
   ],
   "source": [
    "epsilon2 = PresentationMorphism( F, HomalgMatrix( \"[1+x]\", 1, 1, R ), M );\n",
    "Display( epsilon2 );"
   ]
  },
  {
   "cell_type": "code",
   "execution_count": 66,
   "metadata": {},
   "outputs": [
    {
     "data": {
      "text/plain": [
       "true"
      ]
     },
     "execution_count": 66,
     "metadata": {},
     "output_type": "execute_result"
    }
   ],
   "source": [
    "IsCongruentForMorphisms( epsilon, epsilon2 )"
   ]
  },
  {
   "cell_type": "markdown",
   "metadata": {},
   "source": [
    "However, the underlying matrices defining $\\epsilon$\n",
    "and $\\epsilon_2$ differ, which is what is asked for\n",
    "when we use the following command:"
   ]
  },
  {
   "cell_type": "code",
   "execution_count": 67,
   "metadata": {},
   "outputs": [
    {
     "data": {
      "text/plain": [
       "false"
      ]
     },
     "execution_count": 67,
     "metadata": {},
     "output_type": "execute_result"
    }
   ],
   "source": [
    "IsEqualForMorphisms( epsilon, epsilon2 )"
   ]
  },
  {
   "cell_type": "markdown",
   "metadata": {},
   "source": [
    "So remember:\n",
    "`IsCongruentForMorphisms` is the mathematical notion of equality,\n",
    "`IsEqualForMorphisms` is the technical notion of equality.\n",
    "The latter is used for the technical specifications of CAP-operations:\n",
    "> \"equal\" input yields \"equal\" output,\n",
    "\n",
    "where the equality notion is always meant to be the technical one."
   ]
  },
  {
   "cell_type": "markdown",
   "metadata": {},
   "source": [
    "It is mainly due to the comparision theorem of projective resolutions\n",
    "and the functoriality of cokernels\n",
    "that the map\n",
    "$$\n",
    "(a_{ij})_{\\substack{i = 1, \\dots m \\\\ j = 1, \\dots n}} \\mapsto\n",
    "\\mathrm{CokernelObject}\\big( {R}^m \\stackrel{(a_{ij})_{ij}}{\\longrightarrow} {R}^n \\big)\n",
    "$$\n",
    "extends to the level of morphisms and defines a functor\n",
    "$$\n",
    "\\mathrm{fpres}_{R} \\longrightarrow \\mathrm{mod}_{R}\n",
    "$$\n",
    "that is an equivalence of categories.\n",
    "\n",
    "Moreover, $\\mathrm{mod}_{R}$\n",
    "is an abelian category and consequently so is $\\mathrm{fpres}_{R}$.\n",
    "We can use **exactly the same commands** as in the case of $\\mathrm{mat}_k$\n",
    "in order to operate in $\\mathrm{fpres}_{R}$.\n",
    "\n",
    "Here are examples:"
   ]
  },
  {
   "cell_type": "code",
   "execution_count": 68,
   "metadata": {},
   "outputs": [
    {
     "name": "stdout",
     "output_type": "stream",
     "text": [
      "x,\n",
      "y,\n",
      "z \n",
      "\n",
      "A monomorphism in Category of left presentations of Q[x,y,z]\n"
     ]
    }
   ],
   "source": [
    "Display( KernelEmbedding( epsilon ) );"
   ]
  },
  {
   "cell_type": "code",
   "execution_count": 69,
   "metadata": {},
   "outputs": [
    {
     "data": {
      "text/plain": [
       "true"
      ]
     },
     "execution_count": 69,
     "metadata": {},
     "output_type": "execute_result"
    }
   ],
   "source": [
    "IsZeroForObjects( CokernelObject( epsilon ) )"
   ]
  },
  {
   "cell_type": "code",
   "execution_count": 70,
   "metadata": {},
   "outputs": [
    {
     "name": "stdout",
     "output_type": "stream",
     "text": [
      "0,x,0,0,\n",
      "0,y,0,0,\n",
      "0,z,0,0,\n",
      "0,0,x,0,\n",
      "0,0,y,0,\n",
      "0,0,z,0 \n",
      "\n",
      "An object in Category of left presentations of Q[x,y,z]\n"
     ]
    }
   ],
   "source": [
    "Display( DirectSum( F, M, M, F ) );"
   ]
  },
  {
   "cell_type": "markdown",
   "metadata": {},
   "source": [
    "**Exercise 6**\n",
    "\n",
    "Create a free resolution of $R/\\langle x,y,z \\rangle$ in CAP."
   ]
  },
  {
   "cell_type": "code",
   "execution_count": 71,
   "metadata": {},
   "outputs": [],
   "source": [
    "# Solution of Exercise 6\n",
    "\n"
   ]
  },
  {
   "cell_type": "markdown",
   "metadata": {},
   "source": [
    "### Generic algorithms for abelian categories"
   ]
  },
  {
   "cell_type": "markdown",
   "metadata": {},
   "source": [
    "Our computational models\n",
    "$\\mathrm{mat}_k$ and $\\mathrm{fpres}_R$\n",
    "are both examples of abelian categories.\n",
    "Let us refer to a CAP operation\n",
    "that can be interpreted\n",
    "in any abelian category\n",
    "as an **abelian operation**.\n",
    "It then follows that any function\n",
    "that we build up only using abelian operations\n",
    "can be executed both in $\\mathrm{mat}_k$ and $\\mathrm{fpres}_R$.\n",
    "\n",
    "As an example, try out the code you wrote\n",
    "to solve Exercise 3 on the following input:"
   ]
  },
  {
   "cell_type": "code",
   "execution_count": 72,
   "metadata": {},
   "outputs": [],
   "source": [
    "M = AsLeftPresentation( HomalgMatrix( \"[ x, y, z ]\", 3, 1, R ) );\n",
    "N = AsLeftPresentation( HomalgMatrix( \"[ x, y ]\", 2, 1, R ) );\n",
    "mu1 = CoverByFreeModule( N );\n",
    "mu2 = CoverByFreeModule( M );\n",
    "nu1 = PresentationMorphism( Source( mu1 ), HomalgIdentityMatrix( 1, R ), Source( mu2 ) );\n",
    "nu2 = PresentationMorphism( N, HomalgIdentityMatrix( 1, R ), M );"
   ]
  },
  {
   "cell_type": "markdown",
   "metadata": {},
   "source": [
    "Did you write your code generically enough that it was not only applicable in the context\n",
    "of $\\mathrm{mat}_k$, but also in $\\mathrm{fpres}_R$?"
   ]
  },
  {
   "cell_type": "markdown",
   "metadata": {},
   "source": [
    "**Exercise 7**\n",
    "Write generic algorithms for\n",
    "1. the intersection $A \\cap B$ of two subobjects $A,B \\hookrightarrow C$\n",
    "2. the sum $A + B$ of two subobjects $A,B \\hookrightarrow C$ \n",
    "\n",
    "that work in any abelian category and only uses CAP\n",
    "commands that you have seen so far in this worksheet.\n",
    "Note that subobjects of an object $C$ are simply modeled by monomorphisms into $C$.\n",
    "Test your code on\n",
    "the following examples:"
   ]
  },
  {
   "cell_type": "markdown",
   "metadata": {},
   "source": [
    "**Test case 1**\n",
    "\n",
    "Category: $\\mathrm{mat}_{\\mathbb{Q}}$"
   ]
  },
  {
   "cell_type": "code",
   "execution_count": 73,
   "metadata": {},
   "outputs": [
    {
     "name": "stdout",
     "output_type": "stream",
     "text": [
      "[ [  1,  1,  0 ],\n",
      "  [  0,  1,  1 ] ]\n",
      "\n",
      "A morphism in Category of matrices over Q\n",
      "[ [  1,  0,  1 ],\n",
      "  [  1,  1,  0 ] ]\n",
      "\n",
      "A morphism in Category of matrices over Q\n"
     ]
    }
   ],
   "source": [
    "C = VectorSpaceObject( 3, QQ );\n",
    "\n",
    "A = VectorSpaceMorphism(\n",
    "    VectorSpaceObject( 2, QQ ),\n",
    "    HomalgMatrix( \"[1,1,0, 0,1,1]\", 2, 3, QQ ), \n",
    "C );\n",
    "\n",
    "B = VectorSpaceMorphism(\n",
    "    VectorSpaceObject( 2, QQ ),\n",
    "    HomalgMatrix( \"[1,0,1, 1,1,0]\", 2, 3, QQ ), \n",
    "C );\n",
    "\n",
    "Display( A );\n",
    "Display( B );"
   ]
  },
  {
   "cell_type": "markdown",
   "metadata": {},
   "source": [
    "**Test case 2**\n",
    "\n",
    "Category: $\\mathrm{fpres}_{\\mathbb{Q}[x,y,z]}$"
   ]
  },
  {
   "cell_type": "code",
   "execution_count": 74,
   "metadata": {},
   "outputs": [
    {
     "name": "stdout",
     "output_type": "stream",
     "text": [
      "x\n",
      "\n",
      "A morphism in Category of left presentations of Q[x,y,z]\n",
      "y\n",
      "\n",
      "A morphism in Category of left presentations of Q[x,y,z]\n"
     ]
    }
   ],
   "source": [
    "A = AsMorphismBetweenFreeLeftPresentations(\n",
    "    HomalgMatrix( \"[x]\", 1, 1, R )\n",
    ");\n",
    "\n",
    "B = AsMorphismBetweenFreeLeftPresentations(\n",
    "    HomalgMatrix( \"[y]\", 1, 1, R )\n",
    ");\n",
    "\n",
    "Display( A );\n",
    "Display( B );"
   ]
  },
  {
   "cell_type": "code",
   "execution_count": 75,
   "metadata": {},
   "outputs": [],
   "source": [
    "# Solution of Exercise 7\n",
    "\n"
   ]
  }
 ],
 "metadata": {
  "kernelspec": {
   "display_name": "Julia 1.10.4",
   "language": "julia",
   "name": "julia-1.10"
  },
  "language_info": {
   "file_extension": ".jl",
   "mimetype": "application/julia",
   "name": "julia",
   "version": "1.10.4"
  }
 },
 "nbformat": 4,
 "nbformat_minor": 4
}
